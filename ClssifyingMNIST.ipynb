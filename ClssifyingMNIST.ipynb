{
 "cells": [
  {
   "metadata": {},
   "cell_type": "markdown",
   "source": "MNIST Classification\n",
   "id": "252b6de89a968613"
  },
  {
   "metadata": {
    "ExecuteTime": {
     "end_time": "2024-06-05T11:09:23.047979Z",
     "start_time": "2024-06-05T11:09:16.990003Z"
    }
   },
   "cell_type": "code",
   "source": [
    "import numpy as np\n",
    "import math as m\n",
    "from keras.datasets import mnist\n",
    "from keras.utils import to_categorical\n",
    "import matplotlib.pyplot as plt\n",
    "\n",
    "#load data \n",
    "(train_x, train_y), (test_x, test_y) = mnist.load_data()"
   ],
   "id": "510de17cf6a41807",
   "outputs": [],
   "execution_count": 1
  },
  {
   "metadata": {
    "ExecuteTime": {
     "end_time": "2024-06-05T11:14:29.246706Z",
     "start_time": "2024-06-05T11:14:29.231740Z"
    }
   },
   "cell_type": "code",
   "source": [
    "num_data = 10000\n",
    "train_x = train_x[:num_data]\n",
    "train_y = train_y[:num_data]\n",
    "\n",
    "print(train_x.shape, train_y.shape)"
   ],
   "id": "12f2a7f07fee69e6",
   "outputs": [
    {
     "name": "stdout",
     "output_type": "stream",
     "text": [
      "(10000, 28, 28) (10000,)\n"
     ]
    }
   ],
   "execution_count": 6
  },
  {
   "metadata": {
    "ExecuteTime": {
     "end_time": "2024-06-05T11:37:29.976492Z",
     "start_time": "2024-06-05T11:37:19.775586Z"
    }
   },
   "cell_type": "code",
   "source": [
    "#preprocess data\n",
    "np.set_printoptions(linewidth=200)\n",
    "# print(np.array(train_x[0]))\n",
    "\n",
    "X = np.array([[[1 if dd > 0 else 0 for dd in m] for m in x] for x in train_x])\n",
    "\n",
    "# print(np.array(X[0]))\n",
    "y = to_categorical(train_y)\n",
    "\n",
    "x = np.array([x.flatten() for x in X])"
   ],
   "id": "241abdd7d1b128f0",
   "outputs": [],
   "execution_count": 13
  },
  {
   "metadata": {
    "ExecuteTime": {
     "end_time": "2024-06-05T11:37:33.588106Z",
     "start_time": "2024-06-05T11:37:33.562062Z"
    }
   },
   "cell_type": "code",
   "source": [
    "# Multilayer Perceptron\n",
    "input = x\n",
    "target = y\n",
    "\n",
    "num_input = input.shape[1]\n",
    "num_output = target.shape[1]\n",
    "num_hidden = 100\n",
    "\n",
    "#sigmoid function\n",
    "def sigmoid(x):\n",
    "    return 1/(1+np.exp(-x))\n",
    "\n",
    "sig = np.vectorize(sigmoid)\n",
    "\n",
    "#bobot dan bias\n",
    "b_hidden = np.random.uniform(low=-1, high=1, size=(num_hidden))\n",
    "w_hidden = np.random.uniform(low=-1, high=1, size=(num_output, num_hidden))\n",
    "\n",
    "b_output = np.random.uniform(low=-1, high=1, size=(num_output))\n",
    "w_output = np.random.uniform(low=-1, high=1, size=(num_hidden, num_output))\n",
    "\n",
    "#learning rate\n",
    "loss_values = []\n",
    "acc_values = []\n",
    "\n",
    "lr = 0.5\n",
    "epochs = 1000\n",
    "\n",
    "for b in range(epochs):\n",
    "    MSE = 0\n",
    "    new_target = np.zeros(target.shape)\n",
    "    \n",
    "    for idx, inp in enumerate(input):\n",
    "        #forward\n",
    "        hidden = sig(np.dot(w_hidden, inp) + b_hidden)\n",
    "        output = sig(np.dot(w_output, hidden) + b_output)\n",
    "\n",
    "        #backward\n",
    "        error = target[idx] - output\n",
    "        MSE += np.sum(error**2)\n",
    "        delta_output = error * output * (1 - output)\n",
    "        delta_hidden = hidden * (1 - hidden) * np.dot(w_output.T, delta_output)\n",
    "\n",
    "        #update bobot dan bias\n",
    "        w_output += lr * np.outer(delta_output, hidden)\n",
    "        b_output += lr * delta_output\n",
    "        w_hidden += lr * np.outer(delta_hidden, inp)\n",
    "        b_hidden += lr * delta_hidden\n",
    "\n",
    "        new_target[idx] = output\n",
    "        \n",
    "    loss_values.append(MSE/num_data)\n",
    "    acc = np.sum(np.argmax(target, axis=1) == np.argmax(new_target, axis=1))/num_data\n",
    "    acc_values.append(acc)\n",
    "    if b % 100 == 0:\n",
    "        print(f\"Epoch {b+1}/{epochs} - Loss: {MSE/num_data} - Acc: {acc}\")\n",
    "        "
   ],
   "id": "9071205eb3a931f4",
   "outputs": [
    {
     "ename": "ValueError",
     "evalue": "shapes (10,100) and (784,) not aligned: 100 (dim 1) != 784 (dim 0)",
     "output_type": "error",
     "traceback": [
      "\u001B[1;31m---------------------------------------------------------------------------\u001B[0m",
      "\u001B[1;31mValueError\u001B[0m                                Traceback (most recent call last)",
      "Cell \u001B[1;32mIn[14], line 35\u001B[0m\n\u001B[0;32m     31\u001B[0m new_target \u001B[38;5;241m=\u001B[39m np\u001B[38;5;241m.\u001B[39mzeros(target\u001B[38;5;241m.\u001B[39mshape)\n\u001B[0;32m     33\u001B[0m \u001B[38;5;28;01mfor\u001B[39;00m idx, inp \u001B[38;5;129;01min\u001B[39;00m \u001B[38;5;28menumerate\u001B[39m(\u001B[38;5;28minput\u001B[39m):\n\u001B[0;32m     34\u001B[0m     \u001B[38;5;66;03m#forward\u001B[39;00m\n\u001B[1;32m---> 35\u001B[0m     hidden \u001B[38;5;241m=\u001B[39m sig(\u001B[43mnp\u001B[49m\u001B[38;5;241;43m.\u001B[39;49m\u001B[43mdot\u001B[49m\u001B[43m(\u001B[49m\u001B[43mw_hidden\u001B[49m\u001B[43m,\u001B[49m\u001B[43m \u001B[49m\u001B[43minp\u001B[49m\u001B[43m)\u001B[49m \u001B[38;5;241m+\u001B[39m b_hidden)\n\u001B[0;32m     36\u001B[0m     output \u001B[38;5;241m=\u001B[39m sig(np\u001B[38;5;241m.\u001B[39mdot(w_output, hidden) \u001B[38;5;241m+\u001B[39m b_output)\n\u001B[0;32m     38\u001B[0m     \u001B[38;5;66;03m#backward\u001B[39;00m\n",
      "\u001B[1;31mValueError\u001B[0m: shapes (10,100) and (784,) not aligned: 100 (dim 1) != 784 (dim 0)"
     ]
    }
   ],
   "execution_count": 14
  },
  {
   "metadata": {},
   "cell_type": "code",
   "outputs": [],
   "execution_count": null,
   "source": [
    "#plot loss and accuracy\n",
    "plt.plot(loss_values)\n",
    "plt.title(\"Loss\")\n",
    "plt.show()\n",
    "\n"
   ],
   "id": "6b195195e9232693"
  }
 ],
 "metadata": {
  "kernelspec": {
   "display_name": "Python 3",
   "language": "python",
   "name": "python3"
  },
  "language_info": {
   "codemirror_mode": {
    "name": "ipython",
    "version": 2
   },
   "file_extension": ".py",
   "mimetype": "text/x-python",
   "name": "python",
   "nbconvert_exporter": "python",
   "pygments_lexer": "ipython2",
   "version": "2.7.6"
  }
 },
 "nbformat": 4,
 "nbformat_minor": 5
}
